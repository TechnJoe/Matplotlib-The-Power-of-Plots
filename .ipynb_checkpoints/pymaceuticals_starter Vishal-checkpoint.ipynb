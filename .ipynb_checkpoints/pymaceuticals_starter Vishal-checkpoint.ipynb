{
 "cells": [
  {
   "cell_type": "code",
   "execution_count": 2,
   "metadata": {},
   "outputs": [],
   "source": [
    "import pandas as pd\n",
    "import numpy as np\n",
    "import os\n",
    "from pandas import  *\n",
    "from numpy import *\n",
    "from os import *"
   ]
  },
  {
   "cell_type": "code",
   "execution_count": 3,
   "metadata": {},
   "outputs": [],
   "source": [
    "import matplotlib.pyplot as plt\n",
    "import scipy.stats as st\n",
    "from scipy.stats import linregress"
   ]
  },
  {
   "cell_type": "code",
   "execution_count": 4,
   "metadata": {},
   "outputs": [],
   "source": [
    "Mouse_metadata = pd.read_csv(\"C:\\\\Users\\\\vishal\\\\Downloads\\\\Joe\\\\Data\\\\02-Homework\\\\05-Matplotlib\\\\Instructions\\\\Pymaceuticals\\\\data\\\\Mouse_metadata.csv\")"
   ]
  },
  {
   "cell_type": "code",
   "execution_count": 5,
   "metadata": {},
   "outputs": [],
   "source": [
    "Study_results = pd.read_csv(\"C:\\\\Users\\\\vishal\\\\Downloads\\\\Joe\\\\Data\\\\02-Homework\\\\05-Matplotlib\\\\Instructions\\\\Pymaceuticals\\\\data\\\\Study_results.csv\")"
   ]
  },
  {
   "cell_type": "code",
   "execution_count": 6,
   "metadata": {},
   "outputs": [
    {
     "data": {
      "text/html": [
       "<div>\n",
       "<style scoped>\n",
       "    .dataframe tbody tr th:only-of-type {\n",
       "        vertical-align: middle;\n",
       "    }\n",
       "\n",
       "    .dataframe tbody tr th {\n",
       "        vertical-align: top;\n",
       "    }\n",
       "\n",
       "    .dataframe thead th {\n",
       "        text-align: right;\n",
       "    }\n",
       "</style>\n",
       "<table border=\"1\" class=\"dataframe\">\n",
       "  <thead>\n",
       "    <tr style=\"text-align: right;\">\n",
       "      <th></th>\n",
       "      <th>Mouse ID</th>\n",
       "      <th>Drug Regimen</th>\n",
       "      <th>Sex</th>\n",
       "      <th>Age_months</th>\n",
       "      <th>Weight (g)</th>\n",
       "    </tr>\n",
       "  </thead>\n",
       "  <tbody>\n",
       "    <tr>\n",
       "      <th>0</th>\n",
       "      <td>k403</td>\n",
       "      <td>Ramicane</td>\n",
       "      <td>Male</td>\n",
       "      <td>21</td>\n",
       "      <td>16</td>\n",
       "    </tr>\n",
       "    <tr>\n",
       "      <th>1</th>\n",
       "      <td>s185</td>\n",
       "      <td>Capomulin</td>\n",
       "      <td>Female</td>\n",
       "      <td>3</td>\n",
       "      <td>17</td>\n",
       "    </tr>\n",
       "    <tr>\n",
       "      <th>2</th>\n",
       "      <td>x401</td>\n",
       "      <td>Capomulin</td>\n",
       "      <td>Female</td>\n",
       "      <td>16</td>\n",
       "      <td>15</td>\n",
       "    </tr>\n",
       "    <tr>\n",
       "      <th>3</th>\n",
       "      <td>m601</td>\n",
       "      <td>Capomulin</td>\n",
       "      <td>Male</td>\n",
       "      <td>22</td>\n",
       "      <td>17</td>\n",
       "    </tr>\n",
       "    <tr>\n",
       "      <th>4</th>\n",
       "      <td>g791</td>\n",
       "      <td>Ramicane</td>\n",
       "      <td>Male</td>\n",
       "      <td>11</td>\n",
       "      <td>16</td>\n",
       "    </tr>\n",
       "    <tr>\n",
       "      <th>...</th>\n",
       "      <td>...</td>\n",
       "      <td>...</td>\n",
       "      <td>...</td>\n",
       "      <td>...</td>\n",
       "      <td>...</td>\n",
       "    </tr>\n",
       "    <tr>\n",
       "      <th>244</th>\n",
       "      <td>z314</td>\n",
       "      <td>Stelasyn</td>\n",
       "      <td>Female</td>\n",
       "      <td>21</td>\n",
       "      <td>28</td>\n",
       "    </tr>\n",
       "    <tr>\n",
       "      <th>245</th>\n",
       "      <td>z435</td>\n",
       "      <td>Propriva</td>\n",
       "      <td>Female</td>\n",
       "      <td>12</td>\n",
       "      <td>26</td>\n",
       "    </tr>\n",
       "    <tr>\n",
       "      <th>246</th>\n",
       "      <td>z581</td>\n",
       "      <td>Infubinol</td>\n",
       "      <td>Female</td>\n",
       "      <td>24</td>\n",
       "      <td>25</td>\n",
       "    </tr>\n",
       "    <tr>\n",
       "      <th>247</th>\n",
       "      <td>z795</td>\n",
       "      <td>Naftisol</td>\n",
       "      <td>Female</td>\n",
       "      <td>13</td>\n",
       "      <td>29</td>\n",
       "    </tr>\n",
       "    <tr>\n",
       "      <th>248</th>\n",
       "      <td>z969</td>\n",
       "      <td>Naftisol</td>\n",
       "      <td>Male</td>\n",
       "      <td>9</td>\n",
       "      <td>30</td>\n",
       "    </tr>\n",
       "  </tbody>\n",
       "</table>\n",
       "<p>249 rows × 5 columns</p>\n",
       "</div>"
      ],
      "text/plain": [
       "    Mouse ID Drug Regimen     Sex  Age_months  Weight (g)\n",
       "0       k403     Ramicane    Male          21          16\n",
       "1       s185    Capomulin  Female           3          17\n",
       "2       x401    Capomulin  Female          16          15\n",
       "3       m601    Capomulin    Male          22          17\n",
       "4       g791     Ramicane    Male          11          16\n",
       "..       ...          ...     ...         ...         ...\n",
       "244     z314     Stelasyn  Female          21          28\n",
       "245     z435     Propriva  Female          12          26\n",
       "246     z581    Infubinol  Female          24          25\n",
       "247     z795     Naftisol  Female          13          29\n",
       "248     z969     Naftisol    Male           9          30\n",
       "\n",
       "[249 rows x 5 columns]"
      ]
     },
     "execution_count": 6,
     "metadata": {},
     "output_type": "execute_result"
    }
   ],
   "source": [
    "Mouse_metadata"
   ]
  },
  {
   "cell_type": "code",
   "execution_count": 7,
   "metadata": {},
   "outputs": [
    {
     "data": {
      "text/html": [
       "<div>\n",
       "<style scoped>\n",
       "    .dataframe tbody tr th:only-of-type {\n",
       "        vertical-align: middle;\n",
       "    }\n",
       "\n",
       "    .dataframe tbody tr th {\n",
       "        vertical-align: top;\n",
       "    }\n",
       "\n",
       "    .dataframe thead th {\n",
       "        text-align: right;\n",
       "    }\n",
       "</style>\n",
       "<table border=\"1\" class=\"dataframe\">\n",
       "  <thead>\n",
       "    <tr style=\"text-align: right;\">\n",
       "      <th></th>\n",
       "      <th>Mouse ID</th>\n",
       "      <th>Timepoint</th>\n",
       "      <th>Tumor Volume (mm3)</th>\n",
       "      <th>Metastatic Sites</th>\n",
       "    </tr>\n",
       "  </thead>\n",
       "  <tbody>\n",
       "    <tr>\n",
       "      <th>0</th>\n",
       "      <td>b128</td>\n",
       "      <td>0</td>\n",
       "      <td>45.000000</td>\n",
       "      <td>0</td>\n",
       "    </tr>\n",
       "    <tr>\n",
       "      <th>1</th>\n",
       "      <td>f932</td>\n",
       "      <td>0</td>\n",
       "      <td>45.000000</td>\n",
       "      <td>0</td>\n",
       "    </tr>\n",
       "    <tr>\n",
       "      <th>2</th>\n",
       "      <td>g107</td>\n",
       "      <td>0</td>\n",
       "      <td>45.000000</td>\n",
       "      <td>0</td>\n",
       "    </tr>\n",
       "    <tr>\n",
       "      <th>3</th>\n",
       "      <td>a457</td>\n",
       "      <td>0</td>\n",
       "      <td>45.000000</td>\n",
       "      <td>0</td>\n",
       "    </tr>\n",
       "    <tr>\n",
       "      <th>4</th>\n",
       "      <td>c819</td>\n",
       "      <td>0</td>\n",
       "      <td>45.000000</td>\n",
       "      <td>0</td>\n",
       "    </tr>\n",
       "    <tr>\n",
       "      <th>...</th>\n",
       "      <td>...</td>\n",
       "      <td>...</td>\n",
       "      <td>...</td>\n",
       "      <td>...</td>\n",
       "    </tr>\n",
       "    <tr>\n",
       "      <th>1888</th>\n",
       "      <td>r944</td>\n",
       "      <td>45</td>\n",
       "      <td>41.581521</td>\n",
       "      <td>2</td>\n",
       "    </tr>\n",
       "    <tr>\n",
       "      <th>1889</th>\n",
       "      <td>u364</td>\n",
       "      <td>45</td>\n",
       "      <td>31.023923</td>\n",
       "      <td>3</td>\n",
       "    </tr>\n",
       "    <tr>\n",
       "      <th>1890</th>\n",
       "      <td>p438</td>\n",
       "      <td>45</td>\n",
       "      <td>61.433892</td>\n",
       "      <td>1</td>\n",
       "    </tr>\n",
       "    <tr>\n",
       "      <th>1891</th>\n",
       "      <td>x773</td>\n",
       "      <td>45</td>\n",
       "      <td>58.634971</td>\n",
       "      <td>4</td>\n",
       "    </tr>\n",
       "    <tr>\n",
       "      <th>1892</th>\n",
       "      <td>b879</td>\n",
       "      <td>45</td>\n",
       "      <td>72.555239</td>\n",
       "      <td>2</td>\n",
       "    </tr>\n",
       "  </tbody>\n",
       "</table>\n",
       "<p>1893 rows × 4 columns</p>\n",
       "</div>"
      ],
      "text/plain": [
       "     Mouse ID  Timepoint  Tumor Volume (mm3)  Metastatic Sites\n",
       "0        b128          0           45.000000                 0\n",
       "1        f932          0           45.000000                 0\n",
       "2        g107          0           45.000000                 0\n",
       "3        a457          0           45.000000                 0\n",
       "4        c819          0           45.000000                 0\n",
       "...       ...        ...                 ...               ...\n",
       "1888     r944         45           41.581521                 2\n",
       "1889     u364         45           31.023923                 3\n",
       "1890     p438         45           61.433892                 1\n",
       "1891     x773         45           58.634971                 4\n",
       "1892     b879         45           72.555239                 2\n",
       "\n",
       "[1893 rows x 4 columns]"
      ]
     },
     "execution_count": 7,
     "metadata": {},
     "output_type": "execute_result"
    }
   ],
   "source": [
    "Study_results"
   ]
  },
  {
   "cell_type": "code",
   "execution_count": 8,
   "metadata": {},
   "outputs": [
    {
     "data": {
      "text/plain": [
       "Mouse ID        0\n",
       "Drug Regimen    0\n",
       "Sex             0\n",
       "Age_months      0\n",
       "Weight (g)      0\n",
       "dtype: int64"
      ]
     },
     "execution_count": 8,
     "metadata": {},
     "output_type": "execute_result"
    }
   ],
   "source": [
    "Mouse_metadata.isna().sum()"
   ]
  },
  {
   "cell_type": "code",
   "execution_count": 9,
   "metadata": {},
   "outputs": [
    {
     "data": {
      "text/plain": [
       "Mouse ID              0\n",
       "Timepoint             0\n",
       "Tumor Volume (mm3)    0\n",
       "Metastatic Sites      0\n",
       "dtype: int64"
      ]
     },
     "execution_count": 9,
     "metadata": {},
     "output_type": "execute_result"
    }
   ],
   "source": [
    "Study_results.isna().sum()"
   ]
  },
  {
   "cell_type": "code",
   "execution_count": 10,
   "metadata": {},
   "outputs": [],
   "source": [
    "newdf = pd.merge(Mouse_metadata,Study_results,how = 'inner' , on = 'Mouse ID')"
   ]
  },
  {
   "cell_type": "code",
   "execution_count": 11,
   "metadata": {},
   "outputs": [
    {
     "data": {
      "text/html": [
       "<div>\n",
       "<style scoped>\n",
       "    .dataframe tbody tr th:only-of-type {\n",
       "        vertical-align: middle;\n",
       "    }\n",
       "\n",
       "    .dataframe tbody tr th {\n",
       "        vertical-align: top;\n",
       "    }\n",
       "\n",
       "    .dataframe thead th {\n",
       "        text-align: right;\n",
       "    }\n",
       "</style>\n",
       "<table border=\"1\" class=\"dataframe\">\n",
       "  <thead>\n",
       "    <tr style=\"text-align: right;\">\n",
       "      <th></th>\n",
       "      <th>Mouse ID</th>\n",
       "      <th>Drug Regimen</th>\n",
       "      <th>Sex</th>\n",
       "      <th>Age_months</th>\n",
       "      <th>Weight (g)</th>\n",
       "      <th>Timepoint</th>\n",
       "      <th>Tumor Volume (mm3)</th>\n",
       "      <th>Metastatic Sites</th>\n",
       "    </tr>\n",
       "  </thead>\n",
       "  <tbody>\n",
       "    <tr>\n",
       "      <th>0</th>\n",
       "      <td>k403</td>\n",
       "      <td>Ramicane</td>\n",
       "      <td>Male</td>\n",
       "      <td>21</td>\n",
       "      <td>16</td>\n",
       "      <td>0</td>\n",
       "      <td>45.000000</td>\n",
       "      <td>0</td>\n",
       "    </tr>\n",
       "    <tr>\n",
       "      <th>1</th>\n",
       "      <td>k403</td>\n",
       "      <td>Ramicane</td>\n",
       "      <td>Male</td>\n",
       "      <td>21</td>\n",
       "      <td>16</td>\n",
       "      <td>5</td>\n",
       "      <td>38.825898</td>\n",
       "      <td>0</td>\n",
       "    </tr>\n",
       "    <tr>\n",
       "      <th>2</th>\n",
       "      <td>k403</td>\n",
       "      <td>Ramicane</td>\n",
       "      <td>Male</td>\n",
       "      <td>21</td>\n",
       "      <td>16</td>\n",
       "      <td>10</td>\n",
       "      <td>35.014271</td>\n",
       "      <td>1</td>\n",
       "    </tr>\n",
       "    <tr>\n",
       "      <th>3</th>\n",
       "      <td>k403</td>\n",
       "      <td>Ramicane</td>\n",
       "      <td>Male</td>\n",
       "      <td>21</td>\n",
       "      <td>16</td>\n",
       "      <td>15</td>\n",
       "      <td>34.223992</td>\n",
       "      <td>1</td>\n",
       "    </tr>\n",
       "    <tr>\n",
       "      <th>4</th>\n",
       "      <td>k403</td>\n",
       "      <td>Ramicane</td>\n",
       "      <td>Male</td>\n",
       "      <td>21</td>\n",
       "      <td>16</td>\n",
       "      <td>20</td>\n",
       "      <td>32.997729</td>\n",
       "      <td>1</td>\n",
       "    </tr>\n",
       "    <tr>\n",
       "      <th>...</th>\n",
       "      <td>...</td>\n",
       "      <td>...</td>\n",
       "      <td>...</td>\n",
       "      <td>...</td>\n",
       "      <td>...</td>\n",
       "      <td>...</td>\n",
       "      <td>...</td>\n",
       "      <td>...</td>\n",
       "    </tr>\n",
       "    <tr>\n",
       "      <th>1888</th>\n",
       "      <td>z969</td>\n",
       "      <td>Naftisol</td>\n",
       "      <td>Male</td>\n",
       "      <td>9</td>\n",
       "      <td>30</td>\n",
       "      <td>25</td>\n",
       "      <td>63.145652</td>\n",
       "      <td>2</td>\n",
       "    </tr>\n",
       "    <tr>\n",
       "      <th>1889</th>\n",
       "      <td>z969</td>\n",
       "      <td>Naftisol</td>\n",
       "      <td>Male</td>\n",
       "      <td>9</td>\n",
       "      <td>30</td>\n",
       "      <td>30</td>\n",
       "      <td>65.841013</td>\n",
       "      <td>3</td>\n",
       "    </tr>\n",
       "    <tr>\n",
       "      <th>1890</th>\n",
       "      <td>z969</td>\n",
       "      <td>Naftisol</td>\n",
       "      <td>Male</td>\n",
       "      <td>9</td>\n",
       "      <td>30</td>\n",
       "      <td>35</td>\n",
       "      <td>69.176246</td>\n",
       "      <td>4</td>\n",
       "    </tr>\n",
       "    <tr>\n",
       "      <th>1891</th>\n",
       "      <td>z969</td>\n",
       "      <td>Naftisol</td>\n",
       "      <td>Male</td>\n",
       "      <td>9</td>\n",
       "      <td>30</td>\n",
       "      <td>40</td>\n",
       "      <td>70.314904</td>\n",
       "      <td>4</td>\n",
       "    </tr>\n",
       "    <tr>\n",
       "      <th>1892</th>\n",
       "      <td>z969</td>\n",
       "      <td>Naftisol</td>\n",
       "      <td>Male</td>\n",
       "      <td>9</td>\n",
       "      <td>30</td>\n",
       "      <td>45</td>\n",
       "      <td>73.867845</td>\n",
       "      <td>4</td>\n",
       "    </tr>\n",
       "  </tbody>\n",
       "</table>\n",
       "<p>1893 rows × 8 columns</p>\n",
       "</div>"
      ],
      "text/plain": [
       "     Mouse ID Drug Regimen   Sex  Age_months  Weight (g)  Timepoint  \\\n",
       "0        k403     Ramicane  Male          21          16          0   \n",
       "1        k403     Ramicane  Male          21          16          5   \n",
       "2        k403     Ramicane  Male          21          16         10   \n",
       "3        k403     Ramicane  Male          21          16         15   \n",
       "4        k403     Ramicane  Male          21          16         20   \n",
       "...       ...          ...   ...         ...         ...        ...   \n",
       "1888     z969     Naftisol  Male           9          30         25   \n",
       "1889     z969     Naftisol  Male           9          30         30   \n",
       "1890     z969     Naftisol  Male           9          30         35   \n",
       "1891     z969     Naftisol  Male           9          30         40   \n",
       "1892     z969     Naftisol  Male           9          30         45   \n",
       "\n",
       "      Tumor Volume (mm3)  Metastatic Sites  \n",
       "0              45.000000                 0  \n",
       "1              38.825898                 0  \n",
       "2              35.014271                 1  \n",
       "3              34.223992                 1  \n",
       "4              32.997729                 1  \n",
       "...                  ...               ...  \n",
       "1888           63.145652                 2  \n",
       "1889           65.841013                 3  \n",
       "1890           69.176246                 4  \n",
       "1891           70.314904                 4  \n",
       "1892           73.867845                 4  \n",
       "\n",
       "[1893 rows x 8 columns]"
      ]
     },
     "execution_count": 11,
     "metadata": {},
     "output_type": "execute_result"
    }
   ],
   "source": [
    "newdf"
   ]
  },
  {
   "cell_type": "code",
   "execution_count": 12,
   "metadata": {},
   "outputs": [
    {
     "data": {
      "text/html": [
       "<div>\n",
       "<style scoped>\n",
       "    .dataframe tbody tr th:only-of-type {\n",
       "        vertical-align: middle;\n",
       "    }\n",
       "\n",
       "    .dataframe tbody tr th {\n",
       "        vertical-align: top;\n",
       "    }\n",
       "\n",
       "    .dataframe thead th {\n",
       "        text-align: right;\n",
       "    }\n",
       "</style>\n",
       "<table border=\"1\" class=\"dataframe\">\n",
       "  <thead>\n",
       "    <tr style=\"text-align: right;\">\n",
       "      <th></th>\n",
       "      <th>Mouse ID</th>\n",
       "      <th>Timepoint</th>\n",
       "      <th>Tumor Volume (mm3)</th>\n",
       "      <th>Metastatic Sites</th>\n",
       "    </tr>\n",
       "  </thead>\n",
       "  <tbody>\n",
       "    <tr>\n",
       "      <th>0</th>\n",
       "      <td>b128</td>\n",
       "      <td>0</td>\n",
       "      <td>45.0</td>\n",
       "      <td>0</td>\n",
       "    </tr>\n",
       "    <tr>\n",
       "      <th>1</th>\n",
       "      <td>f932</td>\n",
       "      <td>0</td>\n",
       "      <td>45.0</td>\n",
       "      <td>0</td>\n",
       "    </tr>\n",
       "    <tr>\n",
       "      <th>2</th>\n",
       "      <td>g107</td>\n",
       "      <td>0</td>\n",
       "      <td>45.0</td>\n",
       "      <td>0</td>\n",
       "    </tr>\n",
       "    <tr>\n",
       "      <th>3</th>\n",
       "      <td>a457</td>\n",
       "      <td>0</td>\n",
       "      <td>45.0</td>\n",
       "      <td>0</td>\n",
       "    </tr>\n",
       "    <tr>\n",
       "      <th>4</th>\n",
       "      <td>c819</td>\n",
       "      <td>0</td>\n",
       "      <td>45.0</td>\n",
       "      <td>0</td>\n",
       "    </tr>\n",
       "  </tbody>\n",
       "</table>\n",
       "</div>"
      ],
      "text/plain": [
       "  Mouse ID  Timepoint  Tumor Volume (mm3)  Metastatic Sites\n",
       "0     b128          0                45.0                 0\n",
       "1     f932          0                45.0                 0\n",
       "2     g107          0                45.0                 0\n",
       "3     a457          0                45.0                 0\n",
       "4     c819          0                45.0                 0"
      ]
     },
     "execution_count": 12,
     "metadata": {},
     "output_type": "execute_result"
    }
   ],
   "source": [
    "Study_results.head()"
   ]
  },
  {
   "cell_type": "code",
   "execution_count": 13,
   "metadata": {},
   "outputs": [
    {
     "data": {
      "image/png": "[encoded data removed]",
      "text/plain": [
       "<Figure size 432x288 with 1 Axes>"
      ]
     },
     "metadata": {
      "needs_background": "light"
     },
     "output_type": "display_data"
    },
    {
     "name": "stdout",
     "output_type": "stream",
     "text": [
      "Mean of the study results is:  50.45\n",
      "Median of the study results is:  48.95\n",
      "Mode of the study results is:  0    45.0\n",
      "dtype: float64\n",
      "NormaltestResult(statistic=1.3436948722542157, pvalue=0.5107641015717551)\n"
     ]
    }
   ],
   "source": [
    "# Plot the data for the study results as a histogram and test it to see if it is normally distributed\n",
    "plt.hist(Study_results['Tumor Volume (mm3)'])\n",
    "plt.xlabel('Tumor Volume (mm3)')\n",
    "plt.ylabel('Counts')\n",
    "plt.show()\n",
    "print(\"Mean of the study results is: \",round(Study_results['Tumor Volume (mm3)'].mean(),2))\n",
    "print(\"Median of the study results is: \",round(Study_results['Tumor Volume (mm3)'].median(),2))\n",
    "print(\"Mode of the study results is: \",round(Study_results['Tumor Volume (mm3)'].mode(),2))\n",
    "print(st.normaltest(Study_results['Tumor Volume (mm3)'].sample(100)))"
   ]
  },
  {
   "cell_type": "code",
   "execution_count": 14,
   "metadata": {},
   "outputs": [],
   "source": [
    "# Plot the data for the study results as a histogram and test it to see if it is normally distributed"
   ]
  },
  {
   "cell_type": "code",
   "execution_count": 15,
   "metadata": {},
   "outputs": [],
   "source": [
    "### Combine the two dataframes into one and view the info to see if we need to clean the data\""
   ]
  },
  {
   "cell_type": "code",
   "execution_count": 16,
   "metadata": {},
   "outputs": [],
   "source": [
    "newdf = pd.merge(Mouse_metadata,Study_results,how = 'inner' , on = 'Mouse ID')"
   ]
  },
  {
   "cell_type": "code",
   "execution_count": 18,
   "metadata": {},
   "outputs": [
    {
     "name": "stdout",
     "output_type": "stream",
     "text": [
      "<class 'pandas.core.frame.DataFrame'>\n",
      "Int64Index: 1893 entries, 0 to 1892\n",
      "Data columns (total 8 columns):\n",
      " #   Column              Non-Null Count  Dtype  \n",
      "---  ------              --------------  -----  \n",
      " 0   Mouse ID            1893 non-null   object \n",
      " 1   Drug Regimen        1893 non-null   object \n",
      " 2   Sex                 1893 non-null   object \n",
      " 3   Age_months          1893 non-null   int64  \n",
      " 4   Weight (g)          1893 non-null   int64  \n",
      " 5   Timepoint           1893 non-null   int64  \n",
      " 6   Tumor Volume (mm3)  1893 non-null   float64\n",
      " 7   Metastatic Sites    1893 non-null   int64  \n",
      "dtypes: float64(1), int64(4), object(3)\n",
      "memory usage: 133.1+ KB\n"
     ]
    }
   ],
   "source": [
    "newdf.info() # shows us that all the columns have the same number of values and they are of the right types\""
   ]
  },
  {
   "cell_type": "raw",
   "metadata": {},
   "source": [
    "\"Generate a summary statistics table consisting of the mean, median, variance, standard deviation, and SEM of the tumor volume for each drug regimen.\""
   ]
  },
  {
   "cell_type": "code",
   "execution_count": 19,
   "metadata": {},
   "outputs": [
    {
     "data": {
      "text/plain": [
       "'# Generate a summary statistics table by chaining .groupby(), .agg() and .round() methods\\n'"
      ]
     },
     "execution_count": 19,
     "metadata": {},
     "output_type": "execute_result"
    }
   ],
   "source": [
    "\"# Generate a summary statistics table by chaining .groupby(), .agg() and .round() methods\\n\""
   ]
  },
  {
   "cell_type": "code",
   "execution_count": 36,
   "metadata": {},
   "outputs": [
    {
     "data": {
      "text/html": [
       "<div>\n",
       "<style scoped>\n",
       "    .dataframe tbody tr th:only-of-type {\n",
       "        vertical-align: middle;\n",
       "    }\n",
       "\n",
       "    .dataframe tbody tr th {\n",
       "        vertical-align: top;\n",
       "    }\n",
       "\n",
       "    .dataframe thead th {\n",
       "        text-align: right;\n",
       "    }\n",
       "</style>\n",
       "<table border=\"1\" class=\"dataframe\">\n",
       "  <thead>\n",
       "    <tr style=\"text-align: right;\">\n",
       "      <th></th>\n",
       "      <th>Tumor_Vol_Mean</th>\n",
       "      <th>Tumor_Vol_Median</th>\n",
       "      <th>Tumor_Vol_Var</th>\n",
       "      <th>Tumor_Vol_Stdev</th>\n",
       "      <th>Tumor_Vol_SEM</th>\n",
       "    </tr>\n",
       "    <tr>\n",
       "      <th>Drug Regimen</th>\n",
       "      <th></th>\n",
       "      <th></th>\n",
       "      <th></th>\n",
       "      <th></th>\n",
       "      <th></th>\n",
       "    </tr>\n",
       "  </thead>\n",
       "  <tbody>\n",
       "    <tr>\n",
       "      <th>Capomulin</th>\n",
       "      <td>40.676</td>\n",
       "      <td>41.558</td>\n",
       "      <td>24.948</td>\n",
       "      <td>4.995</td>\n",
       "      <td>0.329</td>\n",
       "    </tr>\n",
       "    <tr>\n",
       "      <th>Ceftamin</th>\n",
       "      <td>52.591</td>\n",
       "      <td>51.776</td>\n",
       "      <td>39.290</td>\n",
       "      <td>6.268</td>\n",
       "      <td>0.470</td>\n",
       "    </tr>\n",
       "    <tr>\n",
       "      <th>Infubinol</th>\n",
       "      <td>52.885</td>\n",
       "      <td>51.821</td>\n",
       "      <td>43.129</td>\n",
       "      <td>6.567</td>\n",
       "      <td>0.492</td>\n",
       "    </tr>\n",
       "    <tr>\n",
       "      <th>Ketapril</th>\n",
       "      <td>55.236</td>\n",
       "      <td>53.699</td>\n",
       "      <td>68.554</td>\n",
       "      <td>8.280</td>\n",
       "      <td>0.604</td>\n",
       "    </tr>\n",
       "    <tr>\n",
       "      <th>Naftisol</th>\n",
       "      <td>54.332</td>\n",
       "      <td>52.509</td>\n",
       "      <td>66.173</td>\n",
       "      <td>8.135</td>\n",
       "      <td>0.596</td>\n",
       "    </tr>\n",
       "    <tr>\n",
       "      <th>Placebo</th>\n",
       "      <td>54.034</td>\n",
       "      <td>52.289</td>\n",
       "      <td>61.168</td>\n",
       "      <td>7.821</td>\n",
       "      <td>0.581</td>\n",
       "    </tr>\n",
       "    <tr>\n",
       "      <th>Propriva</th>\n",
       "      <td>52.323</td>\n",
       "      <td>50.855</td>\n",
       "      <td>42.351</td>\n",
       "      <td>6.508</td>\n",
       "      <td>0.513</td>\n",
       "    </tr>\n",
       "    <tr>\n",
       "      <th>Ramicane</th>\n",
       "      <td>40.217</td>\n",
       "      <td>40.673</td>\n",
       "      <td>23.487</td>\n",
       "      <td>4.846</td>\n",
       "      <td>0.321</td>\n",
       "    </tr>\n",
       "    <tr>\n",
       "      <th>Stelasyn</th>\n",
       "      <td>54.233</td>\n",
       "      <td>52.432</td>\n",
       "      <td>59.451</td>\n",
       "      <td>7.710</td>\n",
       "      <td>0.573</td>\n",
       "    </tr>\n",
       "    <tr>\n",
       "      <th>Zoniferol</th>\n",
       "      <td>53.237</td>\n",
       "      <td>51.818</td>\n",
       "      <td>48.533</td>\n",
       "      <td>6.967</td>\n",
       "      <td>0.516</td>\n",
       "    </tr>\n",
       "  </tbody>\n",
       "</table>\n",
       "</div>"
      ],
      "text/plain": [
       "              Tumor_Vol_Mean  Tumor_Vol_Median  Tumor_Vol_Var  \\\n",
       "Drug Regimen                                                    \n",
       "Capomulin             40.676            41.558         24.948   \n",
       "Ceftamin              52.591            51.776         39.290   \n",
       "Infubinol             52.885            51.821         43.129   \n",
       "Ketapril              55.236            53.699         68.554   \n",
       "Naftisol              54.332            52.509         66.173   \n",
       "Placebo               54.034            52.289         61.168   \n",
       "Propriva              52.323            50.855         42.351   \n",
       "Ramicane              40.217            40.673         23.487   \n",
       "Stelasyn              54.233            52.432         59.451   \n",
       "Zoniferol             53.237            51.818         48.533   \n",
       "\n",
       "              Tumor_Vol_Stdev  Tumor_Vol_SEM  \n",
       "Drug Regimen                                  \n",
       "Capomulin               4.995          0.329  \n",
       "Ceftamin                6.268          0.470  \n",
       "Infubinol               6.567          0.492  \n",
       "Ketapril                8.280          0.604  \n",
       "Naftisol                8.135          0.596  \n",
       "Placebo                 7.821          0.581  \n",
       "Propriva                6.508          0.513  \n",
       "Ramicane                4.846          0.321  \n",
       "Stelasyn                7.710          0.573  \n",
       "Zoniferol               6.967          0.516  "
      ]
     },
     "execution_count": 36,
     "metadata": {},
     "output_type": "execute_result"
    }
   ],
   "source": [
    "#\"# Get the mean of the 'Tumor Volume (mm3)' column\",\n",
    "# Get the median of the 'Tumor Volume (mm3)' column\",\n",
    "# Get the standard deviation of the 'Tumor Volume (mm3)' column\",\n",
    "# Get the variance of the 'Tumor Volume (mm3)' column\",\n",
    "# Get the standard error of measurement (SEM) of the 'Tumor Volume (mm3)' column\",\n",
    "# Display the Summary statistics table grouped by 'Drug Regimen' column\\n\",\"drug_group_stats\"\n",
    "drug_group_stats = newdf.groupby('Drug Regimen').agg(Tumor_Vol_Mean=('Tumor Volume (mm3)', np.mean),\n",
    "                                                     Tumor_Vol_Median=('Tumor Volume (mm3)', np.median),\n",
    "                                                     Tumor_Vol_Var=('Tumor Volume (mm3)', np.var),\n",
    "                                                     Tumor_Vol_Stdev=('Tumor Volume (mm3)', np.std),\n",
    "                                                     Tumor_Vol_SEM=('Tumor Volume (mm3)', st.sem)).round(3)\n",
    "drug_group_stats"
   ]
  },
  {
   "cell_type": "code",
   "execution_count": 37,
   "metadata": {},
   "outputs": [],
   "source": [
    "# Bar plots\n",
    "\n",
    "#\"Generate a bar plot using both Pandas's `DataFrame.plot()` and Matplotlib's `pyplot` that shows the number of \n",
    "#data points for each treatment regimen.\\n\",\n",
    "#**NOTE:** These plots should look identical.\""
   ]
  },
  {
   "cell_type": "code",
   "execution_count": 38,
   "metadata": {},
   "outputs": [],
   "source": [
    "# First create a dataframe grouping by the 'Drug Regimen'"
   ]
  },
  {
   "cell_type": "code",
   "execution_count": 40,
   "metadata": {},
   "outputs": [],
   "source": [
    "drug_group = newdf.groupby('Drug Regimen')# Create a dataframe counting the number of data points for each Drug Regimen\n",
    "drug_group_count = pd.DataFrame(drug_group['Drug Regimen'].count())"
   ]
  },
  {
   "cell_type": "code",
   "execution_count": 41,
   "metadata": {},
   "outputs": [],
   "source": [
    "# Create a bar chart based off of the group series from before and label the title"
   ]
  },
  {
   "cell_type": "code",
   "execution_count": 47,
   "metadata": {},
   "outputs": [
    {
     "data": {
      "image/png": "[encoded data removed]",
      "text/plain": [
       "<Figure size 432x288 with 1 Axes>"
      ]
     },
     "metadata": {
      "needs_background": "light"
     },
     "output_type": "display_data"
    }
   ],
   "source": [
    "count_chart = drug_group_count.plot(kind='bar', title=\"Count of data points for each Drug Regimen\", color=\"blue\")\n",
    "# Set the xlabel and ylabel using class methods\n",
    "count_chart.set_xlabel(\"Drug Regimen\")\n",
    "count_chart.set_ylabel(\"Count\")\n",
    "plt.tight_layout()"
   ]
  },
  {
   "cell_type": "code",
   "execution_count": 57,
   "metadata": {},
   "outputs": [
    {
     "data": {
      "text/plain": [
       "<matplotlib.legend.Legend at 0x94d0e8a730>"
      ]
     },
     "execution_count": 57,
     "metadata": {},
     "output_type": "execute_result"
    },
    {
     "data": {
      "image/png": "[encoded data removed]",
      "text/plain": [
       "<Figure size 648x576 with 1 Axes>"
      ]
     },
     "metadata": {
      "needs_background": "light"
     },
     "output_type": "display_data"
    }
   ],
   "source": [
    "## Matplotlib pyplot bar chart method\n",
    "# Generate a bar plot showing number of data points for each treatment regimen using pyplot\\\n",
    "# Using the same groupby dataframe as above\n",
    "# Set x axis and tick locations\n",
    "x_axis = np.arange(len(drug_group_count))\n",
    "tick_locations = [value for value in x_axis]\n",
    "# Create a list indicating where to write x labels and set figure size to adjust for space\n",
    "plt.figure(figsize=(9,8))\n",
    "plt.bar(x_axis, drug_group_count[\"Drug Regimen\"], color='blue', align=\"center\", width = 0.52)\n",
    "plt.xticks(tick_locations, list(drug_group_count.index), rotation=\"vertical\")\n",
    "# Set x and y limits\n",
    "plt.xlim(-0.7, len(x_axis)-0.3)\n",
    "plt.ylim(0, max(drug_group_count[\"Drug Regimen\"])*1.05)\n",
    "# Set a Title and labels\n",
    "plt.title(\"Count of data points for each Drug Regimen\")\n",
    "plt.xlabel(\"Drug Regimen\")\n",
    "plt.ylabel(\"Count\")\n",
    "column_name = [\"Drug Regimen\"]\n",
    "plt.legend(column_name,loc=\"best\")           "
   ]
  },
  {
   "cell_type": "code",
   "execution_count": 60,
   "metadata": {},
   "outputs": [],
   "source": [
    "#Generate a pie plot using both Pandas's `DataFrame.plot()` and Matplotlib's `pyplot` \n",
    "#that shows the distribution of female or male mice in the study."
   ]
  },
  {
   "cell_type": "code",
   "execution_count": 61,
   "metadata": {},
   "outputs": [],
   "source": [
    "#* **NOTE:** These plots should look identical"
   ]
  },
  {
   "cell_type": "code",
   "execution_count": 63,
   "metadata": {},
   "outputs": [
    {
     "data": {
      "text/html": [
       "<div>\n",
       "<style scoped>\n",
       "    .dataframe tbody tr th:only-of-type {\n",
       "        vertical-align: middle;\n",
       "    }\n",
       "\n",
       "    .dataframe tbody tr th {\n",
       "        vertical-align: top;\n",
       "    }\n",
       "\n",
       "    .dataframe thead th {\n",
       "        text-align: right;\n",
       "    }\n",
       "</style>\n",
       "<table border=\"1\" class=\"dataframe\">\n",
       "  <thead>\n",
       "    <tr style=\"text-align: right;\">\n",
       "      <th></th>\n",
       "      <th>Sex</th>\n",
       "    </tr>\n",
       "    <tr>\n",
       "      <th>Sex</th>\n",
       "      <th></th>\n",
       "    </tr>\n",
       "  </thead>\n",
       "  <tbody>\n",
       "    <tr>\n",
       "      <th>Female</th>\n",
       "      <td>935</td>\n",
       "    </tr>\n",
       "    <tr>\n",
       "      <th>Male</th>\n",
       "      <td>958</td>\n",
       "    </tr>\n",
       "  </tbody>\n",
       "</table>\n",
       "</div>"
      ],
      "text/plain": [
       "        Sex\n",
       "Sex        \n",
       "Female  935\n",
       "Male    958"
      ]
     },
     "execution_count": 63,
     "metadata": {},
     "output_type": "execute_result"
    }
   ],
   "source": [
    "# First create a dataframe grouping by the 'Sex' column\n",
    "gender_group = newdf.groupby('Sex')\n",
    "# Create a dataframe counting the number of data points for each gender\n",
    "gender_group_count = pd.DataFrame(gender_group['Sex'].count())\n",
    "gender_group_count.head()"
   ]
  },
  {
   "cell_type": "code",
   "execution_count": 64,
   "metadata": {},
   "outputs": [],
   "source": [
    "# Panda's .plot pie chart"
   ]
  },
  {
   "cell_type": "code",
   "execution_count": 65,
   "metadata": {},
   "outputs": [],
   "source": [
    "# Create a pie chart based off of the group series from before"
   ]
  },
  {
   "cell_type": "code",
   "execution_count": 87,
   "metadata": {},
   "outputs": [
    {
     "data": {
      "image/png": "[encoded data removed]",
      "text/plain": [
       "<Figure size 432x288 with 1 Axes>"
      ]
     },
     "metadata": {},
     "output_type": "display_data"
    }
   ],
   "source": [
    "gender_group_count.plot(kind='pie', y='Sex', \n",
    "title=\"Distribution of female versus male mice\",startangle=140,\n",
    "autopct ='%1.1f%%',shadow=True,\n",
    "colors =[\"lightblue\",\"orange\"],legend =False)\n",
    "plt.rcParams['font.size'] = 16\n",
    "# Make the axis equal to avoid plotting an egg shaped pie chart\",\n",
    "plt.axis(\"equal\")\n",
    "plt.show()"
   ]
  },
  {
   "cell_type": "code",
   "execution_count": 75,
   "metadata": {},
   "outputs": [],
   "source": [
    "# Get Labels for our pie chart from the index values of the groupby dataframe\\"
   ]
  },
  {
   "cell_type": "code",
   "execution_count": 80,
   "metadata": {},
   "outputs": [],
   "source": [
    "genders = list(gender_group_count.index.values)\n",
    "# The values of each section of the pie chart\n",
    "gender_counts = gender_group_count['Sex']\n",
    "# The colors of each section of the pie chart\n",
    "colors = [\"lightblue\", \"orange\"]\n",
    "# Creates the pie chart based upon the values above\n",
    "# Automatically finds the percentages of each part of the pie chart\n",
    "          "
   ]
  },
  {
   "cell_type": "code",
   "execution_count": 86,
   "metadata": {},
   "outputs": [
    {
     "data": {
      "image/png": "[encoded data removed]",
      "text/plain": [
       "<Figure size 432x288 with 1 Axes>"
      ]
     },
     "metadata": {},
     "output_type": "display_data"
    }
   ],
   "source": [
    "plt.pie(gender_counts,labels=genders,colors=colors,autopct ='%1.1f%%',\n",
    "        shadow=True,  startangle= 140)\n",
    "plt.rcParams['font.size'] = 16\n",
    "plt.title(\"Distribution of female versus male mice\")\n",
    "plt.ylabel(\"Sex\")\n",
    "plt.axis(\"equal\")\n",
    "plt.show()         "
   ]
  },
  {
   "cell_type": "code",
   "execution_count": 88,
   "metadata": {},
   "outputs": [],
   "source": [
    "# Quartiles and outliers"
   ]
  },
  {
   "cell_type": "raw",
   "metadata": {},
   "source": [
    "\"Calculate the final tumor volume of each mouse across four of the most promising treatment regimens: Capomulin, Ramicane, Infubinol, and Ceftamin. Calculate the quartiles and IQR and quantitatively determine if there are any potential outliers across all four treatment regimens.\""
   ]
  },
  {
   "cell_type": "code",
   "execution_count": 89,
   "metadata": {},
   "outputs": [],
   "source": [
    "# Prepare a dataframe with the four drugs of interest as columns with values of the final tumor volume of each mouse\""
   ]
  },
  {
   "cell_type": "code",
   "execution_count": 94,
   "metadata": {},
   "outputs": [],
   "source": [
    "# First create a subset of the newdf dataframe where 'Drug Regimen' "
   ]
  },
  {
   "cell_type": "code",
   "execution_count": 95,
   "metadata": {},
   "outputs": [],
   "source": [
    "# Create a list of the four drugs to examine\\\n",
    "four_drug_list = ['Capomulin', 'Ramicane', 'Infubinol', 'Ceftamin']"
   ]
  },
  {
   "cell_type": "code",
   "execution_count": 98,
   "metadata": {},
   "outputs": [
    {
     "data": {
      "text/html": [
       "<div>\n",
       "<style scoped>\n",
       "    .dataframe tbody tr th:only-of-type {\n",
       "        vertical-align: middle;\n",
       "    }\n",
       "\n",
       "    .dataframe tbody tr th {\n",
       "        vertical-align: top;\n",
       "    }\n",
       "\n",
       "    .dataframe thead th {\n",
       "        text-align: right;\n",
       "    }\n",
       "</style>\n",
       "<table border=\"1\" class=\"dataframe\">\n",
       "  <thead>\n",
       "    <tr style=\"text-align: right;\">\n",
       "      <th></th>\n",
       "      <th>Mouse ID</th>\n",
       "      <th>Drug Regimen</th>\n",
       "      <th>Sex</th>\n",
       "      <th>Age_months</th>\n",
       "      <th>Weight (g)</th>\n",
       "      <th>Timepoint</th>\n",
       "      <th>Tumor Volume (mm3)</th>\n",
       "      <th>Metastatic Sites</th>\n",
       "    </tr>\n",
       "  </thead>\n",
       "  <tbody>\n",
       "    <tr>\n",
       "      <th>0</th>\n",
       "      <td>k403</td>\n",
       "      <td>Ramicane</td>\n",
       "      <td>Male</td>\n",
       "      <td>21</td>\n",
       "      <td>16</td>\n",
       "      <td>0</td>\n",
       "      <td>45.000000</td>\n",
       "      <td>0</td>\n",
       "    </tr>\n",
       "    <tr>\n",
       "      <th>1</th>\n",
       "      <td>k403</td>\n",
       "      <td>Ramicane</td>\n",
       "      <td>Male</td>\n",
       "      <td>21</td>\n",
       "      <td>16</td>\n",
       "      <td>5</td>\n",
       "      <td>38.825898</td>\n",
       "      <td>0</td>\n",
       "    </tr>\n",
       "    <tr>\n",
       "      <th>2</th>\n",
       "      <td>k403</td>\n",
       "      <td>Ramicane</td>\n",
       "      <td>Male</td>\n",
       "      <td>21</td>\n",
       "      <td>16</td>\n",
       "      <td>10</td>\n",
       "      <td>35.014271</td>\n",
       "      <td>1</td>\n",
       "    </tr>\n",
       "    <tr>\n",
       "      <th>3</th>\n",
       "      <td>k403</td>\n",
       "      <td>Ramicane</td>\n",
       "      <td>Male</td>\n",
       "      <td>21</td>\n",
       "      <td>16</td>\n",
       "      <td>15</td>\n",
       "      <td>34.223992</td>\n",
       "      <td>1</td>\n",
       "    </tr>\n",
       "    <tr>\n",
       "      <th>4</th>\n",
       "      <td>k403</td>\n",
       "      <td>Ramicane</td>\n",
       "      <td>Male</td>\n",
       "      <td>21</td>\n",
       "      <td>16</td>\n",
       "      <td>20</td>\n",
       "      <td>32.997729</td>\n",
       "      <td>1</td>\n",
       "    </tr>\n",
       "  </tbody>\n",
       "</table>\n",
       "</div>"
      ],
      "text/plain": [
       "  Mouse ID Drug Regimen   Sex  Age_months  Weight (g)  Timepoint  \\\n",
       "0     k403     Ramicane  Male          21          16          0   \n",
       "1     k403     Ramicane  Male          21          16          5   \n",
       "2     k403     Ramicane  Male          21          16         10   \n",
       "3     k403     Ramicane  Male          21          16         15   \n",
       "4     k403     Ramicane  Male          21          16         20   \n",
       "\n",
       "   Tumor Volume (mm3)  Metastatic Sites  \n",
       "0           45.000000                 0  \n",
       "1           38.825898                 0  \n",
       "2           35.014271                 1  \n",
       "3           34.223992                 1  \n",
       "4           32.997729                 1  "
      ]
     },
     "execution_count": 98,
     "metadata": {},
     "output_type": "execute_result"
    }
   ],
   "source": [
    "# Slice the original combined_data dataframe using the list of four drugs\n",
    "four_drugs = newdf[newdf['Drug Regimen'].isin(four_drug_list)]\n",
    "# View the newly created subset dataframe\n",
    "four_drugs.head()"
   ]
  },
  {
   "cell_type": "code",
   "execution_count": 102,
   "metadata": {},
   "outputs": [
    {
     "data": {
      "text/html": [
       "<div>\n",
       "<style scoped>\n",
       "    .dataframe tbody tr th:only-of-type {\n",
       "        vertical-align: middle;\n",
       "    }\n",
       "\n",
       "    .dataframe tbody tr th {\n",
       "        vertical-align: top;\n",
       "    }\n",
       "\n",
       "    .dataframe thead th {\n",
       "        text-align: right;\n",
       "    }\n",
       "</style>\n",
       "<table border=\"1\" class=\"dataframe\">\n",
       "  <thead>\n",
       "    <tr style=\"text-align: right;\">\n",
       "      <th></th>\n",
       "      <th></th>\n",
       "      <th>Last_tumor_size</th>\n",
       "    </tr>\n",
       "    <tr>\n",
       "      <th>Drug Regimen</th>\n",
       "      <th>Mouse ID</th>\n",
       "      <th></th>\n",
       "    </tr>\n",
       "  </thead>\n",
       "  <tbody>\n",
       "    <tr>\n",
       "      <th rowspan=\"5\" valign=\"top\">Capomulin</th>\n",
       "      <th>b128</th>\n",
       "      <td>38.983</td>\n",
       "    </tr>\n",
       "    <tr>\n",
       "      <th>b742</th>\n",
       "      <td>38.940</td>\n",
       "    </tr>\n",
       "    <tr>\n",
       "      <th>f966</th>\n",
       "      <td>30.486</td>\n",
       "    </tr>\n",
       "    <tr>\n",
       "      <th>g288</th>\n",
       "      <td>37.074</td>\n",
       "    </tr>\n",
       "    <tr>\n",
       "      <th>g316</th>\n",
       "      <td>40.159</td>\n",
       "    </tr>\n",
       "    <tr>\n",
       "      <th>...</th>\n",
       "      <th>...</th>\n",
       "      <td>...</td>\n",
       "    </tr>\n",
       "    <tr>\n",
       "      <th rowspan=\"5\" valign=\"top\">Ramicane</th>\n",
       "      <th>s508</th>\n",
       "      <td>30.276</td>\n",
       "    </tr>\n",
       "    <tr>\n",
       "      <th>u196</th>\n",
       "      <td>40.668</td>\n",
       "    </tr>\n",
       "    <tr>\n",
       "      <th>w678</th>\n",
       "      <td>43.166</td>\n",
       "    </tr>\n",
       "    <tr>\n",
       "      <th>y449</th>\n",
       "      <td>44.183</td>\n",
       "    </tr>\n",
       "    <tr>\n",
       "      <th>z578</th>\n",
       "      <td>30.639</td>\n",
       "    </tr>\n",
       "  </tbody>\n",
       "</table>\n",
       "<p>100 rows × 1 columns</p>\n",
       "</div>"
      ],
      "text/plain": [
       "                       Last_tumor_size\n",
       "Drug Regimen Mouse ID                 \n",
       "Capomulin    b128               38.983\n",
       "             b742               38.940\n",
       "             f966               30.486\n",
       "             g288               37.074\n",
       "             g316               40.159\n",
       "...                                ...\n",
       "Ramicane     s508               30.276\n",
       "             u196               40.668\n",
       "             w678               43.166\n",
       "             y449               44.183\n",
       "             z578               30.639\n",
       "\n",
       "[100 rows x 1 columns]"
      ]
     },
     "execution_count": 102,
     "metadata": {},
     "output_type": "execute_result"
    }
   ],
   "source": [
    "# Then groupby 'Mouse ID' and use the .agg method and chain a round method to output 3 digits after the zero\n",
    "four_last_tumor = four_drugs.groupby(['Drug Regimen','Mouse ID']).agg(# Get the last value of the 'Tumor Volume (mm3)' column using a lambda function selecting the element in -1 position\\\n",
    "                                    Last_tumor_size=('Tumor Volume (mm3)',lambda x: x.iloc[-1])).round(3)\n",
    "# View the groupby dataframe\n",
    "four_last_tumor"
   ]
  },
  {
   "cell_type": "code",
   "execution_count": 103,
   "metadata": {},
   "outputs": [
    {
     "data": {
      "text/html": [
       "<div>\n",
       "<style scoped>\n",
       "    .dataframe tbody tr th:only-of-type {\n",
       "        vertical-align: middle;\n",
       "    }\n",
       "\n",
       "    .dataframe tbody tr th {\n",
       "        vertical-align: top;\n",
       "    }\n",
       "\n",
       "    .dataframe thead th {\n",
       "        text-align: right;\n",
       "    }\n",
       "</style>\n",
       "<table border=\"1\" class=\"dataframe\">\n",
       "  <thead>\n",
       "    <tr style=\"text-align: right;\">\n",
       "      <th></th>\n",
       "      <th>Drug Regimen</th>\n",
       "      <th>Capomulin</th>\n",
       "      <th>Ceftamin</th>\n",
       "      <th>Infubinol</th>\n",
       "      <th>Ramicane</th>\n",
       "    </tr>\n",
       "    <tr>\n",
       "      <th>Mouse ID</th>\n",
       "      <th></th>\n",
       "      <th></th>\n",
       "      <th></th>\n",
       "      <th></th>\n",
       "      <th></th>\n",
       "    </tr>\n",
       "  </thead>\n",
       "  <tbody>\n",
       "    <tr>\n",
       "      <th>a203</th>\n",
       "      <th>Last_tumor_size</th>\n",
       "      <td>NaN</td>\n",
       "      <td>NaN</td>\n",
       "      <td>67.973</td>\n",
       "      <td>NaN</td>\n",
       "    </tr>\n",
       "    <tr>\n",
       "      <th>a251</th>\n",
       "      <th>Last_tumor_size</th>\n",
       "      <td>NaN</td>\n",
       "      <td>NaN</td>\n",
       "      <td>65.526</td>\n",
       "      <td>NaN</td>\n",
       "    </tr>\n",
       "    <tr>\n",
       "      <th>a275</th>\n",
       "      <th>Last_tumor_size</th>\n",
       "      <td>NaN</td>\n",
       "      <td>62.999</td>\n",
       "      <td>NaN</td>\n",
       "      <td>NaN</td>\n",
       "    </tr>\n",
       "    <tr>\n",
       "      <th>a411</th>\n",
       "      <th>Last_tumor_size</th>\n",
       "      <td>NaN</td>\n",
       "      <td>NaN</td>\n",
       "      <td>NaN</td>\n",
       "      <td>38.408</td>\n",
       "    </tr>\n",
       "    <tr>\n",
       "      <th>a444</th>\n",
       "      <th>Last_tumor_size</th>\n",
       "      <td>NaN</td>\n",
       "      <td>NaN</td>\n",
       "      <td>NaN</td>\n",
       "      <td>43.048</td>\n",
       "    </tr>\n",
       "    <tr>\n",
       "      <th>...</th>\n",
       "      <th>...</th>\n",
       "      <td>...</td>\n",
       "      <td>...</td>\n",
       "      <td>...</td>\n",
       "      <td>...</td>\n",
       "    </tr>\n",
       "    <tr>\n",
       "      <th>y769</th>\n",
       "      <th>Last_tumor_size</th>\n",
       "      <td>NaN</td>\n",
       "      <td>68.595</td>\n",
       "      <td>NaN</td>\n",
       "      <td>NaN</td>\n",
       "    </tr>\n",
       "    <tr>\n",
       "      <th>y793</th>\n",
       "      <th>Last_tumor_size</th>\n",
       "      <td>31.896</td>\n",
       "      <td>NaN</td>\n",
       "      <td>NaN</td>\n",
       "      <td>NaN</td>\n",
       "    </tr>\n",
       "    <tr>\n",
       "      <th>y865</th>\n",
       "      <th>Last_tumor_size</th>\n",
       "      <td>NaN</td>\n",
       "      <td>64.730</td>\n",
       "      <td>NaN</td>\n",
       "      <td>NaN</td>\n",
       "    </tr>\n",
       "    <tr>\n",
       "      <th>z578</th>\n",
       "      <th>Last_tumor_size</th>\n",
       "      <td>NaN</td>\n",
       "      <td>NaN</td>\n",
       "      <td>NaN</td>\n",
       "      <td>30.639</td>\n",
       "    </tr>\n",
       "    <tr>\n",
       "      <th>z581</th>\n",
       "      <th>Last_tumor_size</th>\n",
       "      <td>NaN</td>\n",
       "      <td>NaN</td>\n",
       "      <td>62.754</td>\n",
       "      <td>NaN</td>\n",
       "    </tr>\n",
       "  </tbody>\n",
       "</table>\n",
       "<p>100 rows × 4 columns</p>\n",
       "</div>"
      ],
      "text/plain": [
       "Drug Regimen              Capomulin  Ceftamin  Infubinol  Ramicane\n",
       "Mouse ID                                                          \n",
       "a203     Last_tumor_size        NaN       NaN     67.973       NaN\n",
       "a251     Last_tumor_size        NaN       NaN     65.526       NaN\n",
       "a275     Last_tumor_size        NaN    62.999        NaN       NaN\n",
       "a411     Last_tumor_size        NaN       NaN        NaN    38.408\n",
       "a444     Last_tumor_size        NaN       NaN        NaN    43.048\n",
       "...                             ...       ...        ...       ...\n",
       "y769     Last_tumor_size        NaN    68.595        NaN       NaN\n",
       "y793     Last_tumor_size     31.896       NaN        NaN       NaN\n",
       "y865     Last_tumor_size        NaN    64.730        NaN       NaN\n",
       "z578     Last_tumor_size        NaN       NaN        NaN    30.639\n",
       "z581     Last_tumor_size        NaN       NaN     62.754       NaN\n",
       "\n",
       "[100 rows x 4 columns]"
      ]
     },
     "execution_count": 103,
     "metadata": {},
     "output_type": "execute_result"
    }
   ],
   "source": [
    "# Reshape dataframe with Drug Regimen as columns by using unstack, also move Last_tumor_size to index using stack\\\n",
    "four_last_tumor_unstack = four_last_tumor.stack(level=0).unstack(level=0)\n",
    "four_last_tumor_unstack"
   ]
  },
  {
   "cell_type": "code",
   "execution_count": 106,
   "metadata": {},
   "outputs": [
    {
     "data": {
      "text/plain": [
       "('--------------------------------------------------------\\n',)"
      ]
     },
     "execution_count": 106,
     "metadata": {},
     "output_type": "execute_result"
    }
   ],
   "source": [
    "\"--------------------------------------------------------\",\n",
    "#Capomulin IQR data is:\",\n",
    "#The lower quartile of Capomulin is: 32.38\",\n",
    "#The upper quartile of Capomulin is: 40.16\",\n",
    "#The interquartile range of Capomulin is: 7.78\",\n",
    "#The the median of Capomulin is: 38.12 \",\n",
    "#Values below 20.71 for Capomulin could be outliers.\",\n",
    "#Values above 51.83 for Capomulin could be outliers.\",\n",
    "#--------------------------------------------------------\",\n",
    "#Ramicane IQR data is:\",\n",
    "#The lower quartile of Ramicane is: 31.56\",\n",
    "#The upper quartile of Ramicane is: 40.66\",\n",
    "#The interquartile range of Ramicane is: 9.1\",\n",
    "#The the median of Ramicane is: 36.56 \",\n",
    "#Values below 17.91 for Ramicane could be outliers.\",\n",
    "#Values above 54.31 for Ramicane could be outliers.\",\n",
    "#--------------------------------------------------------\",\n",
    "#Infubinol IQR data is:\",\n",
    "#The lower quartile of Infubinol is: 54.05\",\n",
    "#The upper quartile of Infubinol is: 65.53\",\n",
    "#The interquartile range of Infubinol is: 11.48\",\n",
    "#The the median of Infubinol is: 60.16 \",\n",
    "#Values below 36.83 for Infubinol could be outliers.\",\n",
    "#Values above 82.75 for Infubinol could be outliers.\",\n",
    "#--------------------------------------------------------\",\n",
    "#Ceftamin IQR data is:\",\n",
    "#The lower quartile of Ceftamin is: 48.72\",\n",
    "#The upper quartile of Ceftamin is: 64.3\",\n",
    "#The interquartile range of Ceftamin is: 15.58\",\n",
    "#The the median of Ceftamin is: 59.85 \",\n",
    "#Values below 25.35 for Ceftamin could be outliers.\",\n",
    "#Values above 87.67 for Ceftamin could be outliers.\",\n",
    "    \n",
    "#--------------------------------------------------------"
   ]
  },
  {
   "cell_type": "code",
   "execution_count": 127,
   "metadata": {},
   "outputs": [
    {
     "ename": "TypeError",
     "evalue": "'tuple' object is not callable",
     "output_type": "error",
     "traceback": [
      "\u001b[1;31m---------------------------------------------------------------------------\u001b[0m",
      "\u001b[1;31mTypeError\u001b[0m                                 Traceback (most recent call last)",
      "\u001b[1;32m<ipython-input-127-f936b5a96d49>\u001b[0m in \u001b[0;36m<module>\u001b[1;34m\u001b[0m\n\u001b[0;32m      5\u001b[0m \u001b[1;32mfor\u001b[0m \u001b[0mdrug\u001b[0m \u001b[1;32min\u001b[0m \u001b[0mfour_drug_list\u001b[0m\u001b[1;33m:\u001b[0m\u001b[1;33m\u001b[0m\u001b[1;33m\u001b[0m\u001b[0m\n\u001b[0;32m      6\u001b[0m     \u001b[0mquartiles\u001b[0m \u001b[1;33m=\u001b[0m \u001b[0mfour_last_tumor_unstack\u001b[0m\u001b[1;33m[\u001b[0m\u001b[0mdrug\u001b[0m\u001b[1;33m]\u001b[0m\u001b[1;33m.\u001b[0m\u001b[0mquantile\u001b[0m\u001b[1;33m(\u001b[0m\u001b[1;33m[\u001b[0m\u001b[1;36m.25\u001b[0m\u001b[1;33m,\u001b[0m\u001b[1;36m.5\u001b[0m\u001b[1;33m,\u001b[0m\u001b[1;36m.75\u001b[0m\u001b[1;33m]\u001b[0m\u001b[1;33m)\u001b[0m\u001b[1;33m.\u001b[0m\u001b[0mround\u001b[0m\u001b[1;33m(\u001b[0m\u001b[1;36m2\u001b[0m\u001b[1;33m)\u001b[0m\u001b[1;33m,\u001b[0m\u001b[1;33m\u001b[0m\u001b[1;33m\u001b[0m\u001b[0m\n\u001b[1;32m----> 7\u001b[1;33m     \u001b[0mlowerq\u001b[0m \u001b[1;33m=\u001b[0m \u001b[0mquartiles\u001b[0m\u001b[1;33m(\u001b[0m\u001b[1;33m[\u001b[0m\u001b[1;36m0.25\u001b[0m\u001b[1;33m]\u001b[0m\u001b[1;33m)\u001b[0m\u001b[1;33m.\u001b[0m\u001b[0mround\u001b[0m\u001b[1;33m(\u001b[0m\u001b[1;36m2\u001b[0m\u001b[1;33m)\u001b[0m\u001b[1;33m,\u001b[0m\u001b[1;33m\u001b[0m\u001b[1;33m\u001b[0m\u001b[0m\n\u001b[0m\u001b[0;32m      8\u001b[0m     \u001b[0mupperq\u001b[0m \u001b[1;33m=\u001b[0m \u001b[0mquartiles\u001b[0m\u001b[1;33m(\u001b[0m\u001b[1;33m[\u001b[0m\u001b[1;36m0.75\u001b[0m\u001b[1;33m]\u001b[0m\u001b[1;33m)\u001b[0m\u001b[1;33m.\u001b[0m\u001b[0mround\u001b[0m\u001b[1;33m(\u001b[0m\u001b[1;36m2\u001b[0m\u001b[1;33m)\u001b[0m\u001b[1;33m,\u001b[0m\u001b[1;33m\u001b[0m\u001b[1;33m\u001b[0m\u001b[0m\n\u001b[0;32m      9\u001b[0m     \u001b[0miqr\u001b[0m \u001b[1;33m=\u001b[0m \u001b[0mround\u001b[0m\u001b[1;33m(\u001b[0m\u001b[0mupperq\u001b[0m\u001b[1;33m-\u001b[0m\u001b[0mlowerq\u001b[0m\u001b[1;33m,\u001b[0m\u001b[1;36m2\u001b[0m\u001b[1;33m)\u001b[0m\u001b[1;33m,\u001b[0m\u001b[1;33m\u001b[0m\u001b[1;33m\u001b[0m\u001b[0m\n",
      "\u001b[1;31mTypeError\u001b[0m: 'tuple' object is not callable"
     ]
    }
   ],
   "source": [
    "#Calculate the IQR and quantitatively determine if there are any potential outliers.,\n",
    "# Set counter to 0 which is used to only print dividing line at top of output,\n",
    "counter = 0\n",
    "# Do quartile calculations for each drug,\n",
    "for drug in four_drug_list:\n",
    "    quartiles = four_last_tumor_unstack[drug].quantile([.25,.5,.75]).round(2),\n",
    "    lowerq = quartiles([0.25]).round(2),\n",
    "    upperq = quartiles([0.75]).round(2),\n",
    "    iqr = round(upperq-lowerq,2),\n",
    "    lower_bound = round(lowerq - (1.5*iqr),2),\n",
    "    upper_bound = round(upperq + (1.5*iqr),2),\n",
    "quartiles()\n",
    "# Check if it is the first time through the for loop, if so then print dividing line at top only,\n",
    "if counter == 0:\n",
    "    print(\"--------------------------------------------------------\")\n",
    "    print(\"{drug} IQR data is:\")\n",
    "    print(\"The lower quartile of {drug} is: {lowerq}\")\n",
    "    print(\"The upper quartile of {drug} is: {upperq}\")\n",
    "    print(\"The interquartile range of {drug} is: {iqr}\")\n",
    "    print(\"The the median of {drug} is: {quartiles[0.5]} \")\n",
    "    print(\"Values below {lower_bound} for {drug} could be outliers.\")\n",
    "    print(\"Values above {upper_bound} for {drug} could be outliers.\")\n",
    "    print(\"--------------------------------------------------------\"),\n",
    "    counter += 1"
   ]
  },
  {
   "cell_type": "code",
   "execution_count": 128,
   "metadata": {},
   "outputs": [
    {
     "ename": "IndentationError",
     "evalue": "unexpected indent (<ipython-input-128-946f7ba8839f>, line 2)",
     "output_type": "error",
     "traceback": [
      "\u001b[1;36m  File \u001b[1;32m\"<ipython-input-128-946f7ba8839f>\"\u001b[1;36m, line \u001b[1;32m2\u001b[0m\n\u001b[1;33m    \"fig1, ax = plt.subplots(figsize=(9,7))\\n\",\u001b[0m\n\u001b[1;37m    ^\u001b[0m\n\u001b[1;31mIndentationError\u001b[0m\u001b[1;31m:\u001b[0m unexpected indent\n"
     ]
    }
   ],
   "source": [
    "\"# Plot the list of lists using a boxplot utilizing the same y-axis for all plots\\n\",\n",
    "    \"fig1, ax = plt.subplots(figsize=(9,7))\\n\",\n",
    "    \"ax.set_title('Final measured Tumor volume by Drug Regimen')\\n\",\n",
    "    \"ax.set_xlabel('Drug Regimen')\\n\",\n",
    "    \"ax.set_ylabel('Tumor Vol (mm3)')\\n\",\n",
    "    \"ax.boxplot(boxplot_list,notch=0,sym='gD')\\n\",\n",
    "    \"plt.xticks([1,2,3,4],four_drug_list)\\n\",\n",
    "    \"plt.savefig(\\\"figures/BoxWhiskerPlot.png\\\")\\n\",\n",
    "    \"plt.show()\\n\","
   ]
  },
  {
   "cell_type": "raw",
   "metadata": {},
   "source": [
    "# Line plot of effectiveness of Capomulin to reduce tumor volume over time\\n\",\n",
    "    \"Generate a line plot of time point versus tumor volume for a single mouse treated with Capomulin."
   ]
  },
  {
   "cell_type": "code",
   "execution_count": 130,
   "metadata": {},
   "outputs": [],
   "source": [
    "capomulin_data = newdf.loc[newdf['Drug Regimen'] == 'Capomulin']"
   ]
  },
  {
   "cell_type": "code",
   "execution_count": 131,
   "metadata": {},
   "outputs": [
    {
     "data": {
      "text/html": [
       "<div>\n",
       "<style scoped>\n",
       "    .dataframe tbody tr th:only-of-type {\n",
       "        vertical-align: middle;\n",
       "    }\n",
       "\n",
       "    .dataframe tbody tr th {\n",
       "        vertical-align: top;\n",
       "    }\n",
       "\n",
       "    .dataframe thead th {\n",
       "        text-align: right;\n",
       "    }\n",
       "</style>\n",
       "<table border=\"1\" class=\"dataframe\">\n",
       "  <thead>\n",
       "    <tr style=\"text-align: right;\">\n",
       "      <th></th>\n",
       "      <th>Mouse ID</th>\n",
       "      <th>Drug Regimen</th>\n",
       "      <th>Sex</th>\n",
       "      <th>Age_months</th>\n",
       "      <th>Weight (g)</th>\n",
       "      <th>Timepoint</th>\n",
       "      <th>Tumor Volume (mm3)</th>\n",
       "      <th>Metastatic Sites</th>\n",
       "    </tr>\n",
       "  </thead>\n",
       "  <tbody>\n",
       "    <tr>\n",
       "      <th>10</th>\n",
       "      <td>s185</td>\n",
       "      <td>Capomulin</td>\n",
       "      <td>Female</td>\n",
       "      <td>3</td>\n",
       "      <td>17</td>\n",
       "      <td>0</td>\n",
       "      <td>45.000000</td>\n",
       "      <td>0</td>\n",
       "    </tr>\n",
       "    <tr>\n",
       "      <th>11</th>\n",
       "      <td>s185</td>\n",
       "      <td>Capomulin</td>\n",
       "      <td>Female</td>\n",
       "      <td>3</td>\n",
       "      <td>17</td>\n",
       "      <td>5</td>\n",
       "      <td>43.878496</td>\n",
       "      <td>0</td>\n",
       "    </tr>\n",
       "    <tr>\n",
       "      <th>12</th>\n",
       "      <td>s185</td>\n",
       "      <td>Capomulin</td>\n",
       "      <td>Female</td>\n",
       "      <td>3</td>\n",
       "      <td>17</td>\n",
       "      <td>10</td>\n",
       "      <td>37.614948</td>\n",
       "      <td>0</td>\n",
       "    </tr>\n",
       "    <tr>\n",
       "      <th>13</th>\n",
       "      <td>s185</td>\n",
       "      <td>Capomulin</td>\n",
       "      <td>Female</td>\n",
       "      <td>3</td>\n",
       "      <td>17</td>\n",
       "      <td>15</td>\n",
       "      <td>38.177232</td>\n",
       "      <td>0</td>\n",
       "    </tr>\n",
       "    <tr>\n",
       "      <th>14</th>\n",
       "      <td>s185</td>\n",
       "      <td>Capomulin</td>\n",
       "      <td>Female</td>\n",
       "      <td>3</td>\n",
       "      <td>17</td>\n",
       "      <td>20</td>\n",
       "      <td>36.866876</td>\n",
       "      <td>0</td>\n",
       "    </tr>\n",
       "    <tr>\n",
       "      <th>...</th>\n",
       "      <td>...</td>\n",
       "      <td>...</td>\n",
       "      <td>...</td>\n",
       "      <td>...</td>\n",
       "      <td>...</td>\n",
       "      <td>...</td>\n",
       "      <td>...</td>\n",
       "      <td>...</td>\n",
       "    </tr>\n",
       "    <tr>\n",
       "      <th>440</th>\n",
       "      <td>i557</td>\n",
       "      <td>Capomulin</td>\n",
       "      <td>Female</td>\n",
       "      <td>1</td>\n",
       "      <td>24</td>\n",
       "      <td>45</td>\n",
       "      <td>47.685963</td>\n",
       "      <td>1</td>\n",
       "    </tr>\n",
       "    <tr>\n",
       "      <th>1452</th>\n",
       "      <td>r157</td>\n",
       "      <td>Capomulin</td>\n",
       "      <td>Male</td>\n",
       "      <td>22</td>\n",
       "      <td>25</td>\n",
       "      <td>0</td>\n",
       "      <td>45.000000</td>\n",
       "      <td>0</td>\n",
       "    </tr>\n",
       "    <tr>\n",
       "      <th>1453</th>\n",
       "      <td>r157</td>\n",
       "      <td>Capomulin</td>\n",
       "      <td>Male</td>\n",
       "      <td>22</td>\n",
       "      <td>25</td>\n",
       "      <td>5</td>\n",
       "      <td>45.597064</td>\n",
       "      <td>0</td>\n",
       "    </tr>\n",
       "    <tr>\n",
       "      <th>1454</th>\n",
       "      <td>r157</td>\n",
       "      <td>Capomulin</td>\n",
       "      <td>Male</td>\n",
       "      <td>22</td>\n",
       "      <td>25</td>\n",
       "      <td>10</td>\n",
       "      <td>46.059608</td>\n",
       "      <td>0</td>\n",
       "    </tr>\n",
       "    <tr>\n",
       "      <th>1455</th>\n",
       "      <td>r157</td>\n",
       "      <td>Capomulin</td>\n",
       "      <td>Male</td>\n",
       "      <td>22</td>\n",
       "      <td>25</td>\n",
       "      <td>15</td>\n",
       "      <td>46.539206</td>\n",
       "      <td>0</td>\n",
       "    </tr>\n",
       "  </tbody>\n",
       "</table>\n",
       "<p>230 rows × 8 columns</p>\n",
       "</div>"
      ],
      "text/plain": [
       "     Mouse ID Drug Regimen     Sex  Age_months  Weight (g)  Timepoint  \\\n",
       "10       s185    Capomulin  Female           3          17          0   \n",
       "11       s185    Capomulin  Female           3          17          5   \n",
       "12       s185    Capomulin  Female           3          17         10   \n",
       "13       s185    Capomulin  Female           3          17         15   \n",
       "14       s185    Capomulin  Female           3          17         20   \n",
       "...       ...          ...     ...         ...         ...        ...   \n",
       "440      i557    Capomulin  Female           1          24         45   \n",
       "1452     r157    Capomulin    Male          22          25          0   \n",
       "1453     r157    Capomulin    Male          22          25          5   \n",
       "1454     r157    Capomulin    Male          22          25         10   \n",
       "1455     r157    Capomulin    Male          22          25         15   \n",
       "\n",
       "      Tumor Volume (mm3)  Metastatic Sites  \n",
       "10             45.000000                 0  \n",
       "11             43.878496                 0  \n",
       "12             37.614948                 0  \n",
       "13             38.177232                 0  \n",
       "14             36.866876                 0  \n",
       "...                  ...               ...  \n",
       "440            47.685963                 1  \n",
       "1452           45.000000                 0  \n",
       "1453           45.597064                 0  \n",
       "1454           46.059608                 0  \n",
       "1455           46.539206                 0  \n",
       "\n",
       "[230 rows x 8 columns]"
      ]
     },
     "execution_count": 131,
     "metadata": {},
     "output_type": "execute_result"
    }
   ],
   "source": [
    "capomulin_data"
   ]
  },
  {
   "cell_type": "code",
   "execution_count": 135,
   "metadata": {},
   "outputs": [
    {
     "data": {
      "text/html": [
       "<div>\n",
       "<style scoped>\n",
       "    .dataframe tbody tr th:only-of-type {\n",
       "        vertical-align: middle;\n",
       "    }\n",
       "\n",
       "    .dataframe tbody tr th {\n",
       "        vertical-align: top;\n",
       "    }\n",
       "\n",
       "    .dataframe thead th {\n",
       "        text-align: right;\n",
       "    }\n",
       "</style>\n",
       "<table border=\"1\" class=\"dataframe\">\n",
       "  <thead>\n",
       "    <tr style=\"text-align: right;\">\n",
       "      <th></th>\n",
       "      <th>Tumor_Vol_Mean</th>\n",
       "      <th>Tumor_Vol_SEM</th>\n",
       "    </tr>\n",
       "    <tr>\n",
       "      <th>Timepoint</th>\n",
       "      <th></th>\n",
       "      <th></th>\n",
       "    </tr>\n",
       "  </thead>\n",
       "  <tbody>\n",
       "    <tr>\n",
       "      <th>0</th>\n",
       "      <td>45.000</td>\n",
       "      <td>0.000</td>\n",
       "    </tr>\n",
       "    <tr>\n",
       "      <th>5</th>\n",
       "      <td>44.266</td>\n",
       "      <td>0.449</td>\n",
       "    </tr>\n",
       "    <tr>\n",
       "      <th>10</th>\n",
       "      <td>43.084</td>\n",
       "      <td>0.703</td>\n",
       "    </tr>\n",
       "    <tr>\n",
       "      <th>15</th>\n",
       "      <td>42.064</td>\n",
       "      <td>0.839</td>\n",
       "    </tr>\n",
       "    <tr>\n",
       "      <th>20</th>\n",
       "      <td>40.716</td>\n",
       "      <td>0.910</td>\n",
       "    </tr>\n",
       "    <tr>\n",
       "      <th>25</th>\n",
       "      <td>39.940</td>\n",
       "      <td>0.882</td>\n",
       "    </tr>\n",
       "    <tr>\n",
       "      <th>30</th>\n",
       "      <td>38.769</td>\n",
       "      <td>0.934</td>\n",
       "    </tr>\n",
       "    <tr>\n",
       "      <th>35</th>\n",
       "      <td>37.817</td>\n",
       "      <td>1.052</td>\n",
       "    </tr>\n",
       "    <tr>\n",
       "      <th>40</th>\n",
       "      <td>36.958</td>\n",
       "      <td>1.224</td>\n",
       "    </tr>\n",
       "    <tr>\n",
       "      <th>45</th>\n",
       "      <td>36.236</td>\n",
       "      <td>1.224</td>\n",
       "    </tr>\n",
       "  </tbody>\n",
       "</table>\n",
       "</div>"
      ],
      "text/plain": [
       "           Tumor_Vol_Mean  Tumor_Vol_SEM\n",
       "Timepoint                               \n",
       "0                  45.000          0.000\n",
       "5                  44.266          0.449\n",
       "10                 43.084          0.703\n",
       "15                 42.064          0.839\n",
       "20                 40.716          0.910\n",
       "25                 39.940          0.882\n",
       "30                 38.769          0.934\n",
       "35                 37.817          1.052\n",
       "40                 36.958          1.224\n",
       "45                 36.236          1.224"
      ]
     },
     "execution_count": 135,
     "metadata": {},
     "output_type": "execute_result"
    }
   ],
   "source": [
    "# Groupby timepoint and then get the mean of the tumor volume and \\n\",\n",
    "# sem just for kicks (since no scientist would plot a line graph without error bars)\n",
    "cap_time_tumor = capomulin_data.groupby(['Timepoint']).agg(\n",
    "        # Get the mean of the 'Tumor Volume (mm3)' column\n",
    "        Tumor_Vol_Mean=('Tumor Volume (mm3)', np.mean),\n",
    "        # Get the standard error of measurement (SEM) of the 'Tumor Volume (mm3)' column\n",
    "        Tumor_Vol_SEM=('Tumor Volume (mm3)', st.sem)).round(3)\n",
    "# View the groupby dataframe\n",
    "cap_time_tumor.head(10)"
   ]
  },
  {
   "cell_type": "code",
   "execution_count": 138,
   "metadata": {},
   "outputs": [],
   "source": [
    "# Plot a line plot using error bars"
   ]
  },
  {
   "cell_type": "code",
   "execution_count": 143,
   "metadata": {},
   "outputs": [
    {
     "data": {
      "image/png": "[encoded data removed]",
      "text/plain": [
       "<Figure size 432x288 with 1 Axes>"
      ]
     },
     "metadata": {
      "needs_background": "light"
     },
     "output_type": "display_data"
    }
   ],
   "source": [
    "time_series = list(cap_time_tumor.index.values)\n",
    "#use errorbar plot from matplotlib\n",
    "plt.errorbar(time_series,  # X values,\n",
    "    cap_time_tumor['Tumor_Vol_Mean'], # Y values,\n",
    "    yerr=cap_time_tumor['Tumor_Vol_SEM'],     # Y-errors,\n",
    "    label=\"Time Series of Tumor Volume for Capomulin\",\n",
    "    fmt=\"bs--\", # format line using dashed lines for plot(),\n",
    "    linewidth=3)  # width of plot line,))\n",
    "# Add the descriptive title, x labels and y labels,\n",
    "\n",
    "plt.title(\"Time Series of Tumor Volume for Capomulin\")\n",
    "plt.xlabel(\"Time (days)\")\n",
    "plt.ylabel(\"Tumor Volume (mm3)\")\n",
    "# Set x and y limits ,\n",
    "plt.xlim(min(time_series)-max(time_series)*0.05, max(time_series)*1.05)\n",
    "plt.ylim(min(cap_time_tumor['Tumor_Vol_Mean'])*0.95, max(cap_time_tumor['Tumor_Vol_Mean'])*1.05)\n",
    "plt.rcParams[\"figure.figsize\"] = [8,7]\n",
    "plt.show()"
   ]
  },
  {
   "cell_type": "code",
   "execution_count": 144,
   "metadata": {},
   "outputs": [
    {
     "data": {
      "text/html": [
       "<div>\n",
       "<style scoped>\n",
       "    .dataframe tbody tr th:only-of-type {\n",
       "        vertical-align: middle;\n",
       "    }\n",
       "\n",
       "    .dataframe tbody tr th {\n",
       "        vertical-align: top;\n",
       "    }\n",
       "\n",
       "    .dataframe thead th {\n",
       "        text-align: right;\n",
       "    }\n",
       "</style>\n",
       "<table border=\"1\" class=\"dataframe\">\n",
       "  <thead>\n",
       "    <tr style=\"text-align: right;\">\n",
       "      <th></th>\n",
       "      <th>Mouse ID</th>\n",
       "      <th>Drug Regimen</th>\n",
       "      <th>Sex</th>\n",
       "      <th>Age_months</th>\n",
       "      <th>Weight (g)</th>\n",
       "      <th>Timepoint</th>\n",
       "      <th>Tumor Volume (mm3)</th>\n",
       "      <th>Metastatic Sites</th>\n",
       "    </tr>\n",
       "  </thead>\n",
       "  <tbody>\n",
       "    <tr>\n",
       "      <th>10</th>\n",
       "      <td>s185</td>\n",
       "      <td>Capomulin</td>\n",
       "      <td>Female</td>\n",
       "      <td>3</td>\n",
       "      <td>17</td>\n",
       "      <td>0</td>\n",
       "      <td>45.000000</td>\n",
       "      <td>0</td>\n",
       "    </tr>\n",
       "    <tr>\n",
       "      <th>11</th>\n",
       "      <td>s185</td>\n",
       "      <td>Capomulin</td>\n",
       "      <td>Female</td>\n",
       "      <td>3</td>\n",
       "      <td>17</td>\n",
       "      <td>5</td>\n",
       "      <td>43.878496</td>\n",
       "      <td>0</td>\n",
       "    </tr>\n",
       "    <tr>\n",
       "      <th>12</th>\n",
       "      <td>s185</td>\n",
       "      <td>Capomulin</td>\n",
       "      <td>Female</td>\n",
       "      <td>3</td>\n",
       "      <td>17</td>\n",
       "      <td>10</td>\n",
       "      <td>37.614948</td>\n",
       "      <td>0</td>\n",
       "    </tr>\n",
       "    <tr>\n",
       "      <th>13</th>\n",
       "      <td>s185</td>\n",
       "      <td>Capomulin</td>\n",
       "      <td>Female</td>\n",
       "      <td>3</td>\n",
       "      <td>17</td>\n",
       "      <td>15</td>\n",
       "      <td>38.177232</td>\n",
       "      <td>0</td>\n",
       "    </tr>\n",
       "    <tr>\n",
       "      <th>14</th>\n",
       "      <td>s185</td>\n",
       "      <td>Capomulin</td>\n",
       "      <td>Female</td>\n",
       "      <td>3</td>\n",
       "      <td>17</td>\n",
       "      <td>20</td>\n",
       "      <td>36.866876</td>\n",
       "      <td>0</td>\n",
       "    </tr>\n",
       "  </tbody>\n",
       "</table>\n",
       "</div>"
      ],
      "text/plain": [
       "   Mouse ID Drug Regimen     Sex  Age_months  Weight (g)  Timepoint  \\\n",
       "10     s185    Capomulin  Female           3          17          0   \n",
       "11     s185    Capomulin  Female           3          17          5   \n",
       "12     s185    Capomulin  Female           3          17         10   \n",
       "13     s185    Capomulin  Female           3          17         15   \n",
       "14     s185    Capomulin  Female           3          17         20   \n",
       "\n",
       "    Tumor Volume (mm3)  Metastatic Sites  \n",
       "10           45.000000                 0  \n",
       "11           43.878496                 0  \n",
       "12           37.614948                 0  \n",
       "13           38.177232                 0  \n",
       "14           36.866876                 0  "
      ]
     },
     "execution_count": 144,
     "metadata": {},
     "output_type": "execute_result"
    }
   ],
   "source": [
    "# Scatter Plot of mouse weight vs. Avg Tumor Volume\\\n",
    "#Generate a scatter plot of mouse weight versus average tumor volume for the Capomulin treatment regimen\n",
    "# View Capomulin dataframe,\n",
    "capomulin_data.head()\n"
   ]
  },
  {
   "cell_type": "code",
   "execution_count": 149,
   "metadata": {},
   "outputs": [
    {
     "data": {
      "text/html": [
       "<div>\n",
       "<style scoped>\n",
       "    .dataframe tbody tr th:only-of-type {\n",
       "        vertical-align: middle;\n",
       "    }\n",
       "\n",
       "    .dataframe tbody tr th {\n",
       "        vertical-align: top;\n",
       "    }\n",
       "\n",
       "    .dataframe thead th {\n",
       "        text-align: right;\n",
       "    }\n",
       "</style>\n",
       "<table border=\"1\" class=\"dataframe\">\n",
       "  <thead>\n",
       "    <tr style=\"text-align: right;\">\n",
       "      <th></th>\n",
       "      <th>Mouse_weight</th>\n",
       "      <th>Tumor_vol_mean</th>\n",
       "    </tr>\n",
       "    <tr>\n",
       "      <th>Mouse ID</th>\n",
       "      <th></th>\n",
       "      <th></th>\n",
       "    </tr>\n",
       "  </thead>\n",
       "  <tbody>\n",
       "    <tr>\n",
       "      <th>b128</th>\n",
       "      <td>22</td>\n",
       "      <td>41.964</td>\n",
       "    </tr>\n",
       "    <tr>\n",
       "      <th>b742</th>\n",
       "      <td>21</td>\n",
       "      <td>40.084</td>\n",
       "    </tr>\n",
       "    <tr>\n",
       "      <th>f966</th>\n",
       "      <td>17</td>\n",
       "      <td>36.506</td>\n",
       "    </tr>\n",
       "    <tr>\n",
       "      <th>g288</th>\n",
       "      <td>19</td>\n",
       "      <td>41.990</td>\n",
       "    </tr>\n",
       "    <tr>\n",
       "      <th>g316</th>\n",
       "      <td>22</td>\n",
       "      <td>44.613</td>\n",
       "    </tr>\n",
       "    <tr>\n",
       "      <th>i557</th>\n",
       "      <td>24</td>\n",
       "      <td>44.806</td>\n",
       "    </tr>\n",
       "    <tr>\n",
       "      <th>i738</th>\n",
       "      <td>20</td>\n",
       "      <td>39.141</td>\n",
       "    </tr>\n",
       "    <tr>\n",
       "      <th>j119</th>\n",
       "      <td>23</td>\n",
       "      <td>44.465</td>\n",
       "    </tr>\n",
       "    <tr>\n",
       "      <th>j246</th>\n",
       "      <td>21</td>\n",
       "      <td>43.217</td>\n",
       "    </tr>\n",
       "    <tr>\n",
       "      <th>l509</th>\n",
       "      <td>21</td>\n",
       "      <td>44.434</td>\n",
       "    </tr>\n",
       "  </tbody>\n",
       "</table>\n",
       "</div>"
      ],
      "text/plain": [
       "          Mouse_weight  Tumor_vol_mean\n",
       "Mouse ID                              \n",
       "b128                22          41.964\n",
       "b742                21          40.084\n",
       "f966                17          36.506\n",
       "g288                19          41.990\n",
       "g316                22          44.613\n",
       "i557                24          44.806\n",
       "i738                20          39.141\n",
       "j119                23          44.465\n",
       "j246                21          43.217\n",
       "l509                21          44.434"
      ]
     },
     "execution_count": 149,
     "metadata": {},
     "output_type": "execute_result"
    }
   ],
   "source": [
    "#Groupby Mouse ID using .agg() method and get the weight and mean of tumor volume\n",
    "cap_mouse_id = capomulin_data.groupby(['Mouse ID']).agg(\n",
    "    # Get the mean of the 'Tumor Volume (mm3)' column\n",
    "    Mouse_weight=('Weight (g)', np.mean),\n",
    "    # Get the standard error of measurement (SEM) of the 'Tumor Volume (mm3)' column\n",
    "    Tumor_vol_mean=('Tumor Volume (mm3)', np.mean)).round(3)\n",
    "cap_mouse_id.head(10)   "
   ]
  },
  {
   "cell_type": "code",
   "execution_count": 151,
   "metadata": {},
   "outputs": [
    {
     "data": {
      "image/png": "[encoded data removed]",
      "text/plain": [
       "<Figure size 576x504 with 1 Axes>"
      ]
     },
     "metadata": {
      "needs_background": "light"
     },
     "output_type": "display_data"
    }
   ],
   "source": [
    "#create scatter plot from the above dataframe\n",
    "plt.scatter(\n",
    "    cap_mouse_id['Mouse_weight'],\n",
    "    cap_mouse_id['Tumor_vol_mean'],\n",
    "    marker='o',\n",
    "    facecolors='red',\n",
    "    edgecolors='black',\n",
    "    s=cap_mouse_id['Tumor_vol_mean'],\n",
    "    alpha=.75),\n",
    "    # Create a title, x label, and y label for our chart\n",
    "plt.xlabel(\"Mouse weight (g)\")\n",
    "plt.title(\"Mouse weight vs. Avg. Tumor Volume\")\n",
    "plt.ylabel(\"Tumor Volume (mm3\")\n",
    "plt.show() "
   ]
  },
  {
   "cell_type": "raw",
   "metadata": {},
   "source": [
    "# Correlation coefficient and linear regression\\\n",
    "\"Calculate the correlation coefficient and linear regression model between mouse weight and average tumor volume for the Capomulin treatment. Plot the linear regression model on top of the previous scatter plot.\""
   ]
  },
  {
   "cell_type": "code",
   "execution_count": 152,
   "metadata": {},
   "outputs": [],
   "source": [
    "#The correlation between both factors is 0.84"
   ]
  },
  {
   "cell_type": "code",
   "execution_count": 165,
   "metadata": {},
   "outputs": [
    {
     "name": "stdout",
     "output_type": "stream",
     "text": [
      "The correlation between both factors is  {0.84}\n"
     ]
    }
   ],
   "source": [
    "# Calculate the correlation coefficient and linear regression model for mouse weight and average tumor volume for the Capomulin regimen\n",
    "correlation = st.pearsonr(cap_mouse_id['Mouse_weight'],cap_mouse_id['Tumor_vol_mean'])\n",
    "print(\"The correlation between both factors is \",{round(correlation[0],2)})"
   ]
  },
  {
   "cell_type": "raw",
   "metadata": {},
   "source": [
    "The r-squared is: 0.8419461020261081\n",
    "The equation of the regression line is: y = 0.95x + 21.55"
   ]
  },
  {
   "cell_type": "code",
   "execution_count": 177,
   "metadata": {},
   "outputs": [
    {
     "name": "stdout",
     "output_type": "stream",
     "text": [
      "The r-squared is: {rvalue}\n",
      "The equation of the regression line is: {line_eq}\n"
     ]
    },
    {
     "data": {
      "image/png": "[encoded data removed]",
      "text/plain": [
       "<Figure size 576x504 with 1 Axes>"
      ]
     },
     "metadata": {
      "needs_background": "light"
     },
     "output_type": "display_data"
    }
   ],
   "source": [
    "# Print out the r-squared value along with the plot.,\n",
    "x_values = cap_mouse_id['Mouse_weight']\n",
    "y_values = cap_mouse_id['Tumor_vol_mean']\n",
    "(slope, intercept, rvalue, pvalue, stderr) = linregress(x_values, y_values)\n",
    "regress_values = x_values * slope + intercept\n",
    "line_eq = \"y = \" + str(round(slope,2)) + \"x + \" + str(round(intercept,2))\n",
    "line_eq =' y = {str(round(slope,2))}x + {str(round(intercept,2))}'\n",
    "plt.scatter(x_values,y_values),\n",
    "plt.plot(x_values,regress_values,\"r-\")\n",
    "plt.annotate(line_eq,(17,37),fontsize=15,color=\"black\")\n",
    "plt.title(\"Mouse weight vs. Avg. Tumor Volume\")\n",
    "plt.xlabel(\"Mouse weight (g)\")\n",
    "plt.ylabel(\"Tumor Volume (mm3)\")\n",
    "print(\"The r-squared is: {rvalue}\")\n",
    "print(\"The equation of the regression line is: {line_eq}\")\n",
    "plt.show()"
   ]
  },
  {
   "cell_type": "raw",
   "metadata": {},
   "source": [
    "Look across all previously generated figures and tables and write at least three observations or inferences that can be made from the data. Include these observations at the top of notebook"
   ]
  },
  {
   "cell_type": "code",
   "execution_count": null,
   "metadata": {},
   "outputs": [],
   "source": []
  }
 ],
 "metadata": {
  "kernelspec": {
   "display_name": "Python 3",
   "language": "python",
   "name": "python3"
  },
  "language_info": {
   "codemirror_mode": {
    "name": "ipython",
    "version": 3
   },
   "file_extension": ".py",
   "mimetype": "text/x-python",
   "name": "python",
   "nbconvert_exporter": "python",
   "pygments_lexer": "ipython3",
   "version": "3.8.3"
  }
 },
 "nbformat": 4,
 "nbformat_minor": 4
}
